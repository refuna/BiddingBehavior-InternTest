{
 "cells": [
  {
   "cell_type": "code",
   "execution_count": null,
   "metadata": {},
   "outputs": [],
   "source": [
    "import pandas as pd\n",
    "import numpy as np\n",
    "import matplotlib.pyplot as plt\n",
    "import plotly.express as px\n",
    "import seaborn as sns\n",
    "from calendar import weekday, day_name"
   ]
  },
  {
   "cell_type": "code",
   "execution_count": null,
   "metadata": {},
   "outputs": [],
   "source": [
    "bids = pd.read_csv('bids.csv')\n",
    "bidder = pd.read_csv('bottrain.csv')"
   ]
  },
  {
   "cell_type": "code",
   "execution_count": null,
   "metadata": {},
   "outputs": [],
   "source": [
    "bidder.head()"
   ]
  },
  {
   "cell_type": "markdown",
   "metadata": {},
   "source": [
    "## Data Processing "
   ]
  },
  {
   "cell_type": "code",
   "execution_count": null,
   "metadata": {},
   "outputs": [],
   "source": [
    "bids['time'] = pd.to_datetime(bids['time'])"
   ]
  },
  {
   "cell_type": "code",
   "execution_count": null,
   "metadata": {},
   "outputs": [],
   "source": [
    "# convert weekday to weekday name\n",
    "bids['weekday'] = bids.time.apply(lambda x: day_name[weekday(x.year, x.month, x.day)])"
   ]
  },
  {
   "cell_type": "code",
   "execution_count": null,
   "metadata": {},
   "outputs": [],
   "source": [
    "# merge two dataframes bidder and bids\n",
    "bidInfo = pd.merge(bidder, bids, on='bidder_id', how='left')\n",
    "bidInfo.head()"
   ]
  },
  {
   "cell_type": "code",
   "execution_count": null,
   "metadata": {},
   "outputs": [],
   "source": [
    "bidInfo.isna().sum()"
   ]
  },
  {
   "cell_type": "code",
   "execution_count": null,
   "metadata": {},
   "outputs": [],
   "source": [
    "bidInfo.dropna(inplace=True)\n",
    "bidInfo.isna().sum()"
   ]
  },
  {
   "cell_type": "code",
   "execution_count": null,
   "metadata": {},
   "outputs": [],
   "source": [
    "# groupby country and outcome\n",
    "grouped_co = bidInfo.groupby('country')['outcome'].value_counts(normalize=True)\n",
    "grouped_co\n",
    "# robot_Country = grouped_co.loc[:, 1].sort_values(ascending=False)\n",
    "# robot_Country"
   ]
  },
  {
   "cell_type": "code",
   "execution_count": null,
   "metadata": {},
   "outputs": [],
   "source": [
    "bidInfo.head()"
   ]
  },
  {
   "cell_type": "code",
   "execution_count": null,
   "metadata": {},
   "outputs": [],
   "source": [
    "#  drop the columns that are not useful for the prediction\n",
    "bidInfo.drop(['url', 'ip', 'address', 'payment_account'], axis=1, inplace=True)"
   ]
  },
  {
   "cell_type": "code",
   "execution_count": null,
   "metadata": {},
   "outputs": [],
   "source": [
    "bidInfo.head()"
   ]
  },
  {
   "cell_type": "code",
   "execution_count": null,
   "metadata": {},
   "outputs": [],
   "source": [
    "bots = bidInfo.loc[bidInfo.outcome == 1]"
   ]
  },
  {
   "cell_type": "markdown",
   "metadata": {},
   "source": [
    "# EDA"
   ]
  },
  {
   "cell_type": "code",
   "execution_count": null,
   "metadata": {},
   "outputs": [],
   "source": [
    "# trop 10 country with most bidders\n",
    "sns.countplot(data=bidInfo, x='country', order=bidInfo['country'].value_counts().iloc[:10].index, hue='outcome')"
   ]
  },
  {
   "cell_type": "markdown",
   "metadata": {},
   "source": [
    " 1. It seems \"in\" and \"ng\" has highest number of human bidding among all other countries.  \n",
    " 2. However, among the bots \"in\" and \"us\" seems to be popular. "
   ]
  },
  {
   "cell_type": "code",
   "execution_count": null,
   "metadata": {},
   "outputs": [],
   "source": [
    "# top 10 popular merchandise \n",
    "sns.countplot(data=bidInfo, x='merchandise', order=bidInfo['merchandise'].value_counts().iloc[:10].index, hue='outcome')\n",
    "plt.xticks(rotation=60)"
   ]
  },
  {
   "cell_type": "markdown",
   "metadata": {},
   "source": [
    "1. Among all the merchandise maximum number of bidding by humans are observed in Sporting goods and jewelery on the contrary, bots also have highest number of bidding in Sporting goods, mobile and jewelry.\n",
    "2. Jewelery merchandise seems to be most authentic and valuable since its has more number of human outcomes as compared to bots.\n",
    "3. Obviously, bots have no interest in furniture."
   ]
  },
  {
   "cell_type": "code",
   "execution_count": null,
   "metadata": {},
   "outputs": [],
   "source": [
    "#Top 5 bidder id for bots\n",
    "sns.countplot(y=\"bidder_id\", data=bots, \n",
    "             order=bots.bidder_id.value_counts().iloc[:5].index, hue='outcome')"
   ]
  },
  {
   "cell_type": "code",
   "execution_count": null,
   "metadata": {},
   "outputs": [],
   "source": [
    "# influence of weekday for merchandise\n",
    "sns.set(style='ticks')\n",
    "g = sns.FacetGrid(bidInfo, col='weekday')\n",
    "g.map(plt.hist, 'merchandise', bins=20)\n",
    "g.set_xticklabels(rotation=90)"
   ]
  },
  {
   "cell_type": "markdown",
   "metadata": {},
   "source": [
    "It seems decreasing trend for bidders of each merchandise as the weekend aproaches. We could assume that in the weekday, biiders demonstrate the same behavior. Furthermore, Wednesday has the highest number for sporting goods while friday has lowest. \n",
    "\n"
   ]
  },
  {
   "cell_type": "code",
   "execution_count": null,
   "metadata": {},
   "outputs": [],
   "source": [
    "# create new feature auction_duration\n",
    "auction_duration = bidInfo.groupby('auction').agg({'time': ['min', 'max']})\n",
    "auction_duration.columns = ['start_time', 'end_time']\n",
    "auction_duration['duration'] = auction_duration['end_time'] - auction_duration['start_time']\n",
    "# merge auction_duration to bidInfo\n",
    "bidInfo = pd.merge(bidInfo, auction_duration, on='auction', how='left')\n",
    "bidInfo['duration'] = bidInfo['duration'].dt.total_seconds()\n",
    "bidInfo.head()"
   ]
  },
  {
   "cell_type": "code",
   "execution_count": null,
   "metadata": {},
   "outputs": [],
   "source": [
    "#  top10 human bidders\n",
    "df_human = bidInfo.query('outcome == 0')\n",
    "top10_human = df_human.pivot_table(index='bidder_id', values='outcome', aggfunc='count', fill_value=0).sort_values(by='outcome', ascending=False).iloc[:10]\n"
   ]
  },
  {
   "cell_type": "code",
   "execution_count": null,
   "metadata": {},
   "outputs": [],
   "source": [
    "# top10 robot bidders\n",
    "top10_robot = bidInfo.pivot_table(index='bidder_id', values='outcome', aggfunc='sum', fill_value=0).sort_values(by='outcome', ascending=False).iloc[:10]\n"
   ]
  },
  {
   "cell_type": "code",
   "execution_count": null,
   "metadata": {},
   "outputs": [],
   "source": [
    "# top 10 bidders including robot and human\n",
    "top10_bidder = bidInfo.loc[bidInfo.bidder_id.isin(top10_robot.index) | bidInfo.bidder_id.isin(top10_human.index)]\n",
    "top10_bidder"
   ]
  },
  {
   "cell_type": "code",
   "execution_count": null,
   "metadata": {},
   "outputs": [],
   "source": [
    "px.histogram(top10_bidder, x='duration', color='outcome', marginal='box', nbins=90, title='duration distribution for human and robot bidders')"
   ]
  },
  {
   "cell_type": "markdown",
   "metadata": {},
   "source": [
    "For the human case:\n",
    "we see lower 25% took 0 to 13.4093k seconds and the rest uper 25% took  from 76 to 77k second and in the interquartile range median is 64.53k seconds. It's showing that most human is concentrated on bidding during the period of 64k to 76k.\n",
    "\n",
    "For the Bot case:\n",
    "we see lower 25% took 0 to 12.94k and in the interquartile range median is 74.56k seconds. There is a huge dispersion between 12.94k to 77.305k, while there is high density from 74.56k to 77.305k .\n",
    "\n",
    "It's interesting to see that human and robot have similar bidding pattern. However, robot is more active in bidding during the period of 74k to 77k seconds. Most importantly, we oberserve that robot don't bid at all during the period around 60k, even thought there is few human bidding during that period, this would be a good sign that robot is not human."
   ]
  },
  {
   "cell_type": "code",
   "execution_count": null,
   "metadata": {},
   "outputs": [],
   "source": []
  },
  {
   "cell_type": "code",
   "execution_count": null,
   "metadata": {},
   "outputs": [],
   "source": []
  }
 ],
 "metadata": {
  "kernelspec": {
   "display_name": "Python 3 (ipykernel)",
   "language": "python",
   "name": "python3"
  },
  "language_info": {
   "codemirror_mode": {
    "name": "ipython",
    "version": 3
   },
   "file_extension": ".py",
   "mimetype": "text/x-python",
   "name": "python",
   "nbconvert_exporter": "python",
   "pygments_lexer": "ipython3",
   "version": "3.9.13"
  },
  "toc": {
   "base_numbering": 1,
   "nav_menu": {},
   "number_sections": true,
   "sideBar": true,
   "skip_h1_title": false,
   "title_cell": "Table of Contents",
   "title_sidebar": "Contents",
   "toc_cell": false,
   "toc_position": {},
   "toc_section_display": true,
   "toc_window_display": false
  },
  "vscode": {
   "interpreter": {
    "hash": "369f2c481f4da34e4445cda3fffd2e751bd1c4d706f27375911949ba6bb62e1c"
   }
  }
 },
 "nbformat": 4,
 "nbformat_minor": 2
}
